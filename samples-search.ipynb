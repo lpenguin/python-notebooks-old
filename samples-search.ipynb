{
 "cells": [
  {
   "cell_type": "code",
   "execution_count": 31,
   "metadata": {
    "collapsed": true
   },
   "outputs": [],
   "source": [
    "import csv\n",
    "\n",
    "class ListTable(list):\n",
    "    \"\"\" Overridden list class which takes a 2-dimensional list of \n",
    "        the form [[1,2,3],[4,5,6]], and renders an HTML Table in \n",
    "        IPython Notebook. \"\"\"\n",
    "    \n",
    "    def _repr_html_(self):\n",
    "        html = [\"<table>\"]\n",
    "        for row in self:\n",
    "            html.append(\"<tr>\")\n",
    "            \n",
    "            for col in row:\n",
    "                if isinstance(col, str) and len(col) > 50:\n",
    "                    col = col[:50]\n",
    "                html.append(\"<td>{0}</td>\".format(col))\n",
    "            \n",
    "            html.append(\"</tr>\")\n",
    "        html.append(\"</table>\")\n",
    "        return ''.join(html)\n",
    "    \n",
    "    \n",
    "class CursorIter():\n",
    "    def __init__(self, cursor):\n",
    "        self.cursor = cursor\n",
    "        self.field_names = [x[0] for x in self.cursor.description]\n",
    "    \n",
    "    def iterate(self):\n",
    "        while True:\n",
    "            row = self.cursor.fetchone()\n",
    "            if row is None:\n",
    "                break\n",
    "            yield row\n",
    "            \n",
    "    @staticmethod    \n",
    "    def from_query(conn, query):\n",
    "        with conn.cursor() as cursor:\n",
    "            cursor.execute(query)\n",
    "            return CursorIter(cursor)\n",
    "            \n",
    "class CursorTable():\n",
    "    def __init__(self, cursor):\n",
    "        cursor_iter = CursorIter(cursor)\n",
    "        self.table = ListTable()\n",
    "        self.table.append(cursor_iter.field_names)\n",
    "        for row in cursor_iter.iterate():\n",
    "            self.table.append(row)\n",
    "    \n",
    "    def append_cursor(self, conn, query):\n",
    "        with conn.cursor() as cursor:\n",
    "            cursor.execute(query)\n",
    "            for row in CursorIter(cursor).iterate():\n",
    "                self.table.append(row)\n",
    "            \n",
    "    @staticmethod\n",
    "    def from_query(conn, query):\n",
    "        with conn.cursor() as cursor:\n",
    "            cursor.execute(query)\n",
    "            t = CursorTable(cursor)\n",
    "        return t\n",
    "            \n",
    "    def _repr_html_(self):\n",
    "        return self.table._repr_html_()\n",
    "    \n",
    "    def write_csv(self, file_name):\n",
    "        with open(file_name, 'w') as f:\n",
    "            writer = csv.writer(f)\n",
    "            for row in self.table:\n",
    "                writer.writerow(row)\n",
    "#     def get_table(self):\n",
    "#         table = ListTable()\n",
    "#         table.append(self.cursor_iter.field_names)\n",
    "#         for row in self.cursor_iter.iterate():\n",
    "#             table.append(row)\n",
    "#         return table\n",
    "\n",
    "def geo_url(geo_id):\n",
    "    geo_root_tpm = \"http://ftp.ncbi.nlm.nih.gov/geo/{entity}/{entity_id}{prefix}nnn/{geo_id}/\"\n",
    "    entity_id = geo_id[:3]\n",
    "    number = geo_id[3:]\n",
    "    prefix = number[:-3]\n",
    "    \n",
    "    if entity_id == 'GSE':\n",
    "        entity = 'series'\n",
    "    elif entity_id == 'GSM':\n",
    "        entity = 'samples'\n",
    "    elif entity_id == 'GPL':\n",
    "        entity = 'platforms'\n",
    "    \n",
    "    return geo_root_tpm.format(\n",
    "        entity=entity,\n",
    "        entity_id=entity_id,\n",
    "        prefix=prefix,\n",
    "        geo_id=geo_id\n",
    "    )\n",
    "    \n",
    "    \n",
    "    \n",
    "    \n",
    "    "
   ]
  },
  {
   "cell_type": "code",
   "execution_count": 4,
   "metadata": {
    "collapsed": true
   },
   "outputs": [],
   "source": [
    "import pymysql\n",
    "conn = pymysql.connect(host='localhost', port=3306, user='scraper', passwd='scraper123', db='scraper')"
   ]
  },
  {
   "cell_type": "code",
   "execution_count": 5,
   "metadata": {
    "collapsed": true
   },
   "outputs": [],
   "source": [
    "platforms = ['GPL1708']\n",
    "# tissues = ['Adipose', 'Artery', 'Brain', 'Lymphocytes', 'Leukemia', 'Fibroblasts', \n",
    "#            'Heart', 'Lung', 'Skeletal%Muscle', 'Nerve', 'Ski', 'Thyroid', 'Whole blood']\n",
    "\n",
    "tissues = ['Adipose', 'Artery', 'Brain', 'Lymphocytes', 'Leukemia', 'Fibroblasts', \n",
    "           'Heart', 'Lung', 'Nerve', 'Ski', 'Thyroid', 'Whole blood']\n",
    "\n",
    "with conn.cursor() as cursor:\n",
    "    cursor.execute('select id from platform where accession in ({})'.format(\n",
    "            ','.join([\"'\"+p+\"'\" for p in platforms])\n",
    "    ))\n",
    "    platform_ids = [r[0] for r in cursor.fetchall()]"
   ]
  },
  {
   "cell_type": "code",
   "execution_count": 3,
   "metadata": {
    "collapsed": false,
    "scrolled": true
   },
   "outputs": [
    {
     "ename": "NameError",
     "evalue": "name 'conn' is not defined",
     "output_type": "error",
     "traceback": [
      "\u001b[0;31m---------------------------------------------------------------------------\u001b[0m",
      "\u001b[0;31mNameError\u001b[0m                                 Traceback (most recent call last)",
      "\u001b[0;32m<ipython-input-3-a1bb7b820126>\u001b[0m in \u001b[0;36m<module>\u001b[0;34m()\u001b[0m\n\u001b[1;32m      1\u001b[0m \u001b[0;32mfrom\u001b[0m \u001b[0mIPython\u001b[0m\u001b[0;34m.\u001b[0m\u001b[0mdisplay\u001b[0m \u001b[0;32mimport\u001b[0m \u001b[0mdisplay\u001b[0m\u001b[0;34m\u001b[0m\u001b[0m\n\u001b[0;32m----> 2\u001b[0;31m \u001b[0;32mwith\u001b[0m \u001b[0mconn\u001b[0m\u001b[0;34m.\u001b[0m\u001b[0mcursor\u001b[0m\u001b[0;34m(\u001b[0m\u001b[0;34m)\u001b[0m \u001b[0;32mas\u001b[0m \u001b[0mcursor\u001b[0m\u001b[0;34m:\u001b[0m\u001b[0;34m\u001b[0m\u001b[0m\n\u001b[0m\u001b[1;32m      3\u001b[0m     cursor.execute('select id from platform where accession in ({})'.format(\n\u001b[1;32m      4\u001b[0m             \u001b[0;34m','\u001b[0m\u001b[0;34m.\u001b[0m\u001b[0mjoin\u001b[0m\u001b[0;34m(\u001b[0m\u001b[0;34m[\u001b[0m\u001b[0;34m\"'\"\u001b[0m\u001b[0;34m+\u001b[0m\u001b[0mp\u001b[0m\u001b[0;34m+\u001b[0m\u001b[0;34m\"'\"\u001b[0m \u001b[0;32mfor\u001b[0m \u001b[0mp\u001b[0m \u001b[0;32min\u001b[0m \u001b[0mplatforms\u001b[0m\u001b[0;34m]\u001b[0m\u001b[0;34m)\u001b[0m\u001b[0;34m\u001b[0m\u001b[0m\n\u001b[1;32m      5\u001b[0m     ))\n",
      "\u001b[0;31mNameError\u001b[0m: name 'conn' is not defined"
     ]
    }
   ],
   "source": [
    "from IPython.display import display\n",
    "\n",
    "    \n",
    "query_tpl = \"\"\"\n",
    "SELECT \n",
    "    sm.accession as accession,\t\n",
    "    se.accession as series,\t\n",
    "    sm.platform as platform,\t\n",
    "    '{tissue}' as tissue,\t\n",
    "    sm.title as title,\t\n",
    "    se.title as series_title,\t\n",
    "    sm.characteristics as characteristics,\t\n",
    "    sm.source_name as source_name,\t\n",
    "    se.overall_design as series_overall_design,\t\n",
    "    sm.sample_type as sample_type,\t\n",
    "    sm.organism as organism,\t\n",
    "    sm.extracted_molecule as extracted_molecule\n",
    "FROM sample sm\n",
    "JOIN sampleseries ss ON sm.id = ss.sample_ref_id\n",
    "JOIN series se ON se.id = ss.series_ref_id\n",
    "WHERE sm.platform_ref_id = {platform_id}\n",
    "AND sm.source_name like '%{tissue}%'\n",
    "{and_control}\n",
    "\n",
    "LIMIT {limit}\n",
    "\"\"\"\n",
    "\n",
    "and_control = \"\"\"\n",
    "AND ((sm.title like '%control%' or sm.title like '%normal%')\n",
    "    OR (sm.characteristics like '%control%' or sm.characteristics like '%normal%')\n",
    "    OR (sm.source_name like '%control%' or sm.source_name like '%normal%'))\n",
    "\"\"\"\n",
    "t = None\n",
    "for platform_id in platform_ids:\n",
    "    for tissue in tissues:\n",
    "        query = query_tpl.format(\n",
    "            tissue=tissue,\n",
    "            platform_id=platform_id,\n",
    "            limit=30,\n",
    "            and_control=and_control\n",
    "        )\n",
    "        if t is None:\n",
    "            t = CursorTable.from_query(conn, query)\n",
    "        else:\n",
    "            t.append_cursor(conn, query)\n",
    "# display(t)\n",
    "t.write_csv('/Users/nikitaprianichnikov/Data/nm/request.csv')\n"
   ]
  },
  {
   "cell_type": "code",
   "execution_count": 23,
   "metadata": {
    "collapsed": false
   },
   "outputs": [],
   "source": [
    "platform_id = platform_ids[0]\n",
    "query_tpl = \"\"\"\n",
    "SELECT \n",
    "    se.accession\n",
    "FROM sample sm\n",
    "JOIN sampleseries ss ON sm.id = ss.sample_ref_id\n",
    "JOIN series se ON se.id = ss.series_ref_id\n",
    "WHERE sm.platform_ref_id = {platform_id}\n",
    "GROUP BY se.accession\n",
    "\"\"\"\n",
    "\n",
    "# CursorTable.from_query(conn, query_tpl.format(platform_id=platform_id)).write_csv('/Users/nikitaprianichnikov/Data/nm/tmp/series.csv')\n",
    "series = [r[0] for r in CursorIter.from_query(conn, query_tpl.format(platform_id=platform_id)).iterate()]"
   ]
  },
  {
   "cell_type": "code",
   "execution_count": 41,
   "metadata": {
    "collapsed": false
   },
   "outputs": [
    {
     "name": "stdout",
     "output_type": "stream",
     "text": [
      "GSE10195\n"
     ]
    },
    {
     "ename": "KeyboardInterrupt",
     "evalue": "",
     "output_type": "error",
     "traceback": [
      "\u001b[0;31m---------------------------------------------------------------------------\u001b[0m",
      "\u001b[0;31mKeyboardInterrupt\u001b[0m                         Traceback (most recent call last)",
      "\u001b[0;32m<ipython-input-41-15cf9f69de7d>\u001b[0m in \u001b[0;36m<module>\u001b[0;34m()\u001b[0m\n\u001b[1;32m     14\u001b[0m \u001b[0;31m#          adjust_extension=True,\u001b[0m\u001b[0;34m\u001b[0m\u001b[0;34m\u001b[0m\u001b[0m\n\u001b[1;32m     15\u001b[0m \u001b[0;31m#          page_requisites=True,\u001b[0m\u001b[0;34m\u001b[0m\u001b[0;34m\u001b[0m\u001b[0m\n\u001b[0;32m---> 16\u001b[0;31m          no_parent=True)\n\u001b[0m\u001b[1;32m     17\u001b[0m \u001b[0;34m\u001b[0m\u001b[0m\n\u001b[1;32m     18\u001b[0m \u001b[0;34m\u001b[0m\u001b[0m\n",
      "\u001b[0;32m/usr/local/lib/python3.4/site-packages/sh.py\u001b[0m in \u001b[0;36m__call__\u001b[0;34m(self, *args, **kwargs)\u001b[0m\n\u001b[1;32m   1019\u001b[0m \u001b[0;34m\u001b[0m\u001b[0m\n\u001b[1;32m   1020\u001b[0m \u001b[0;34m\u001b[0m\u001b[0m\n\u001b[0;32m-> 1021\u001b[0;31m         \u001b[0;32mreturn\u001b[0m \u001b[0mRunningCommand\u001b[0m\u001b[0;34m(\u001b[0m\u001b[0mcmd\u001b[0m\u001b[0;34m,\u001b[0m \u001b[0mcall_args\u001b[0m\u001b[0;34m,\u001b[0m \u001b[0mstdin\u001b[0m\u001b[0;34m,\u001b[0m \u001b[0mstdout\u001b[0m\u001b[0;34m,\u001b[0m \u001b[0mstderr\u001b[0m\u001b[0;34m)\u001b[0m\u001b[0;34m\u001b[0m\u001b[0m\n\u001b[0m\u001b[1;32m   1022\u001b[0m \u001b[0;34m\u001b[0m\u001b[0m\n\u001b[1;32m   1023\u001b[0m \u001b[0;34m\u001b[0m\u001b[0m\n",
      "\u001b[0;32m/usr/local/lib/python3.4/site-packages/sh.py\u001b[0m in \u001b[0;36m__init__\u001b[0;34m(self, cmd, call_args, stdin, stdout, stderr)\u001b[0m\n\u001b[1;32m    484\u001b[0m \u001b[0;34m\u001b[0m\u001b[0m\n\u001b[1;32m    485\u001b[0m             \u001b[0;32mif\u001b[0m \u001b[0mshould_wait\u001b[0m\u001b[0;34m:\u001b[0m\u001b[0;34m\u001b[0m\u001b[0m\n\u001b[0;32m--> 486\u001b[0;31m                 \u001b[0mself\u001b[0m\u001b[0;34m.\u001b[0m\u001b[0mwait\u001b[0m\u001b[0;34m(\u001b[0m\u001b[0;34m)\u001b[0m\u001b[0;34m\u001b[0m\u001b[0m\n\u001b[0m\u001b[1;32m    487\u001b[0m \u001b[0;34m\u001b[0m\u001b[0m\n\u001b[1;32m    488\u001b[0m \u001b[0;34m\u001b[0m\u001b[0m\n",
      "\u001b[0;32m/usr/local/lib/python3.4/site-packages/sh.py\u001b[0m in \u001b[0;36mwait\u001b[0;34m(self)\u001b[0m\n\u001b[1;32m    491\u001b[0m             \u001b[0mself\u001b[0m\u001b[0;34m.\u001b[0m\u001b[0m_process_completed\u001b[0m \u001b[0;34m=\u001b[0m \u001b[0;32mTrue\u001b[0m\u001b[0;34m\u001b[0m\u001b[0m\n\u001b[1;32m    492\u001b[0m \u001b[0;34m\u001b[0m\u001b[0m\n\u001b[0;32m--> 493\u001b[0;31m             \u001b[0mexit_code\u001b[0m \u001b[0;34m=\u001b[0m \u001b[0mself\u001b[0m\u001b[0;34m.\u001b[0m\u001b[0mprocess\u001b[0m\u001b[0;34m.\u001b[0m\u001b[0mwait\u001b[0m\u001b[0;34m(\u001b[0m\u001b[0;34m)\u001b[0m\u001b[0;34m\u001b[0m\u001b[0m\n\u001b[0m\u001b[1;32m    494\u001b[0m             \u001b[0;32mif\u001b[0m \u001b[0mself\u001b[0m\u001b[0;34m.\u001b[0m\u001b[0mprocess\u001b[0m\u001b[0;34m.\u001b[0m\u001b[0mtimed_out\u001b[0m\u001b[0;34m:\u001b[0m\u001b[0;34m\u001b[0m\u001b[0m\n\u001b[1;32m    495\u001b[0m                 \u001b[0;31m# if we timed out, our exit code represents a signal, which is\u001b[0m\u001b[0;34m\u001b[0m\u001b[0;34m\u001b[0m\u001b[0m\n",
      "\u001b[0;32m/usr/local/lib/python3.4/site-packages/sh.py\u001b[0m in \u001b[0;36mwait\u001b[0;34m(self)\u001b[0m\n\u001b[1;32m   1599\u001b[0m             \u001b[0;32mif\u001b[0m \u001b[0mself\u001b[0m\u001b[0;34m.\u001b[0m\u001b[0mexit_code\u001b[0m \u001b[0;32mis\u001b[0m \u001b[0;32mNone\u001b[0m\u001b[0;34m:\u001b[0m\u001b[0;34m\u001b[0m\u001b[0m\n\u001b[1;32m   1600\u001b[0m                 \u001b[0mself\u001b[0m\u001b[0;34m.\u001b[0m\u001b[0mlog\u001b[0m\u001b[0;34m.\u001b[0m\u001b[0mdebug\u001b[0m\u001b[0;34m(\u001b[0m\u001b[0;34m\"exit code not set, waiting on pid\"\u001b[0m\u001b[0;34m)\u001b[0m\u001b[0;34m\u001b[0m\u001b[0m\n\u001b[0;32m-> 1601\u001b[0;31m                 \u001b[0mpid\u001b[0m\u001b[0;34m,\u001b[0m \u001b[0mexit_code\u001b[0m \u001b[0;34m=\u001b[0m \u001b[0mos\u001b[0m\u001b[0;34m.\u001b[0m\u001b[0mwaitpid\u001b[0m\u001b[0;34m(\u001b[0m\u001b[0mself\u001b[0m\u001b[0;34m.\u001b[0m\u001b[0mpid\u001b[0m\u001b[0;34m,\u001b[0m \u001b[0;36m0\u001b[0m\u001b[0;34m)\u001b[0m \u001b[0;31m# blocks\u001b[0m\u001b[0;34m\u001b[0m\u001b[0m\n\u001b[0m\u001b[1;32m   1602\u001b[0m                 \u001b[0mself\u001b[0m\u001b[0;34m.\u001b[0m\u001b[0mexit_code\u001b[0m \u001b[0;34m=\u001b[0m \u001b[0mhandle_process_exit_code\u001b[0m\u001b[0;34m(\u001b[0m\u001b[0mexit_code\u001b[0m\u001b[0;34m)\u001b[0m\u001b[0;34m\u001b[0m\u001b[0m\n\u001b[1;32m   1603\u001b[0m             \u001b[0;32melse\u001b[0m\u001b[0;34m:\u001b[0m\u001b[0;34m\u001b[0m\u001b[0m\n",
      "\u001b[0;31mKeyboardInterrupt\u001b[0m: "
     ]
    }
   ],
   "source": [
    "from sh import wget\n",
    "from os import makedirs\n",
    "\n",
    "out_dir = '/Users/nikitaprianichnikov/Data/nm/tmp/GPL1708-series/'\n",
    "makedirs(out_dir, exist_ok=True)\n",
    "\n",
    "for serie in series:\n",
    "    print(serie)\n",
    "    series_matrix_url = geo_url(serie)+'/matrix/'\n",
    "    wget(series_matrix_url, \n",
    "         directory_prefix=out_dir,\n",
    "         mirror=True,\n",
    "         convert_links=True, \n",
    "#          adjust_extension=True, \n",
    "#          page_requisites=True,\n",
    "         no_parent=True)\n",
    "    \n",
    "\n"
   ]
  },
  {
   "cell_type": "code",
   "execution_count": null,
   "metadata": {
    "collapsed": true
   },
   "outputs": [],
   "source": []
  }
 ],
 "metadata": {
  "kernelspec": {
   "display_name": "Python 3",
   "language": "python",
   "name": "python3"
  },
  "language_info": {
   "codemirror_mode": {
    "name": "ipython",
    "version": 3
   },
   "file_extension": ".py",
   "mimetype": "text/x-python",
   "name": "python",
   "nbconvert_exporter": "python",
   "pygments_lexer": "ipython3",
   "version": "3.4.3"
  }
 },
 "nbformat": 4,
 "nbformat_minor": 0
}
