{
 "metadata": {
  "name": "",
  "signature": "sha256:a498c5ed599ded74d96ca0c67333a84d582ada8ea099b63e55fa07ae3942ca69"
 },
 "nbformat": 3,
 "nbformat_minor": 0,
 "worksheets": [
  {
   "cells": [
    {
     "cell_type": "code",
     "collapsed": false,
     "input": [
      "from sys import stdout\n",
      "\n",
      "class Progress:\n",
      "    def __init__(self, maxval, width=100):\n",
      "        self.current = 0\n",
      "        self.step = float(maxval) / float(width)\n",
      "        self.prev_step = 0\n",
      "        self.width = 100\n",
      "        self.maxval = maxval\n",
      "    \n",
      "    def print_line(self):\n",
      "        stdout.write('-' * self.width)\n",
      "        print ''\n",
      "        \n",
      "    \n",
      "    def next_(self):\n",
      "        self.current += 1\n",
      "        while self.current > self.prev_step + self.step:\n",
      "            stdout.write('=')\n",
      "            self.prev_step += self.step\n",
      "        if self.current >= self.maxval:\n",
      "            stdout.write('=')\n",
      "            print ''\n",
      "        \n",
      "            \n",
      "        \n"
     ],
     "language": "python",
     "metadata": {},
     "outputs": [],
     "prompt_number": 8
    },
    {
     "cell_type": "code",
     "collapsed": false,
     "input": [
      "\n",
      "\n",
      "from math import factorial as fac\n",
      "\n",
      "def it_shift(items):\n",
      "    pos = 1\n",
      "    for item in items:\n",
      "        yield (item, items[pos:])\n",
      "        pos +=1\n",
      "        \n",
      "def it_pos(items):\n",
      "    i = 0\n",
      "    for item in items:\n",
      "        yield (item, i)\n",
      "        i += 1\n",
      "\n",
      "def it_split(items):\n",
      "    pos = 1\n",
      "    for item in items:\n",
      "        yield (item, items[:pos-1] + items[pos:])\n",
      "        pos +=1\n",
      "        \n",
      "def choose(items, count):\n",
      "    if count == 0:\n",
      "        yield []     \n",
      "    \n",
      "    for (item, items) in it_shift(items):\n",
      "        for option in choose(items, count - 1):\n",
      "            yield [item] + option\n",
      "            \n",
      "def arrange(items, count):\n",
      "    if count == 0:\n",
      "        yield []     \n",
      "    \n",
      "    for (item, items) in it_split(items):\n",
      "        for option in arrange(items, count - 1):\n",
      "            yield [item] + option\n",
      "        \n",
      "def print_sets(sets):\n",
      "    for (subset, i) in it_pos(sets):\n",
      "        print \"#%d %s\" % (i + 1, subset)\n",
      "        \n",
      "\n",
      "l = []\n",
      "for i in xrange(10):\n",
      "    l.append(i)\n",
      "\n",
      "def c_choose(n, k):\n",
      "    return fac(n)/fac(k)/fac(n-k)\n",
      "\n",
      "def c_arrange(n, k):\n",
      "    return fac(n)/fac(n-k)\n",
      "\n",
      "\n",
      "   \n",
      "c = 0\n",
      "r = ['p', 'v', 'k', 's'] + ['a'] * 11\n",
      "\n",
      "count = c_arrange(len(r), len(r))\n",
      "print count\n",
      "p = Progress(count,  100)\n",
      "p.print_line()\n",
      "for row in arrange(r, len(r)):\n",
      "    p.next_()\n",
      "    if row[0] == 'p' or row[-1] == 'p':\n",
      "        continue\n",
      "    c += 1\n",
      "# print 'Found %s' % c\n"
     ],
     "language": "python",
     "metadata": {},
     "outputs": [
      {
       "output_type": "stream",
       "stream": "stdout",
       "text": [
        "1307674368000\n",
        "----------------------------------------------------------------------------------------------------\n"
       ]
      }
     ],
     "prompt_number": 10
    },
    {
     "cell_type": "code",
     "collapsed": false,
     "input": [
      "r = [1, 2, 3]\n",
      "r[-1]\n"
     ],
     "language": "python",
     "metadata": {},
     "outputs": [
      {
       "metadata": {},
       "output_type": "pyout",
       "prompt_number": 3,
       "text": [
        "3"
       ]
      }
     ],
     "prompt_number": 3
    },
    {
     "cell_type": "code",
     "collapsed": false,
     "input": [
      "a = [1, 2, 3, 4]\n",
      "1 in a"
     ],
     "language": "python",
     "metadata": {},
     "outputs": [
      {
       "metadata": {},
       "output_type": "pyout",
       "prompt_number": 35,
       "text": [
        "True"
       ]
      }
     ],
     "prompt_number": 35
    }
   ],
   "metadata": {}
  }
 ]
}