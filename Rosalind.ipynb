{
 "metadata": {
  "name": "",
  "signature": "sha256:d88ce622846f89a586740c1827620d50db77c299ba9bd4ad208f7ae713cd280d"
 },
 "nbformat": 3,
 "nbformat_minor": 0,
 "worksheets": [
  {
   "cells": [
    {
     "cell_type": "code",
     "collapsed": false,
     "input": [
      "symbols = ['A', 'C', 'G', 'T']\n",
      "input = \"TGGACAAGCGCGCGACGTGAGTGCGCCCGCCAACGAAACTGCGTGTCACGCCATTCCTTTCTCAGTCCCTTTGGGGTTGCAGTATGCACATATACCAATCTCCTAGGTCACTAAAAAAACCCCTGATGCGTAAAATTGTTTATCCAGCGAACAGGTCTAAAGGGAGGTTTGTACCTCGCACCATACCCGTGTCCTGCTCCTGCGACCAGAAGTCTGCACCTGAGGCTCTGGCTTAACGAGTATGAATACCTGCGATGTGAGCGGAGTTATTACTAGAAATGCCAGCGGGCAATACCCGAAGTCCGGGGTACGCATACGCAGTTCAGCGCCAGCTTGTGGGGACTCTCTTAGACATCCAAGGCAAATTTCAGCGGCTCTGGAGGTTACGCCTTTGCGCGTTCAACGTTCAACGGGCCAGTATATGACTATCTCGTCAATTCCCCTGGTGTCCGTACGGGAAAGATCGTTCTGGTAATGACCTCGAATCCCTGCGGCAACTACGTTGAACCGTTCGGATGGATCGGAGATCCGATGCCCTGGGGTGTGTGCTCGCCATATCCTAGCATACTACGGGGCACGGCCCCCTTAGCTATATTTCGCGGCACCGCCACGAAGGCACACCTCAACCGGCATGCTACGAAACGGTGGGGCGGGTAATGGCTCCGAGTGAGCTCCATTAGATGCAGGCTTAACAGTCCGCCGATCCCATCCTCAGATTGCAGGAATGGGCTATGGGCGCGTAGCCCTGCCTTTACCTCCGATCTCGTGCTCTCCTTGTGGTTGAGTGGTGTGCAACGGGTTCATATCCCACAGTTGGCAATTTACCACTTAATCGGCACTTTGTTTCAGTCTTGAGGTGGCTAACTCTTA\"\n",
      "\n",
      "print \" \".join([str(input.count(x)) for x in symbols])\n",
      "\n",
      "# for sym in symbols:\n",
      "#      s.append(input.count(sym)"
     ],
     "language": "python",
     "metadata": {},
     "outputs": [
      {
       "output_type": "stream",
       "stream": "stdout",
       "text": [
        "189 241 228 212\n"
       ]
      }
     ],
     "prompt_number": 8
    },
    {
     "cell_type": "markdown",
     "metadata": {},
     "source": [
      "#Problem\n",
      "\n",
      "An RNA string is a string formed from the alphabet containing `'A', 'C', 'G', and 'U'`.\n",
      "\n",
      "Given a DNA string t corresponding to a coding strand, its transcribed RNA string u is formed by replacing all occurrences of 'T' in t with 'U' in u.\n",
      "\n",
      "**Given**: A DNA string t having length at most 1000 nt.\n",
      "\n",
      "**Return**: The transcribed RNA string of t.\n",
      "\n"
     ]
    },
    {
     "cell_type": "code",
     "collapsed": false,
     "input": [
      "def res(input):\n",
      "    return input.replace(\"T\", \"U\")\n",
      "\n",
      "# Sample dataset\n",
      "input = \"GATGGAACTTGACTACGTAAATT\"\n",
      "print res(input)\n",
      "\n",
      "# Current dataset\n",
      "input = \"TGTAATTTTCCCCTGTAGCACTCTGTCTTTTGCGCCCTACATCGACTGAGTGGCTCCAGATGAGTGGAGTTTTCGGCTCGAGGACTAGGTGTCTTGACTTGCCTCTTAAATTAGTCTGGTGTGCCAACGCTTAAAGGTGTAAGTCGAGGTTCGAGGACGTTATCGGATAGCAATTGCCGTCAGGTTACATGCGTCGTACTGCATATAACGTACAACATTGTCCCCGTGAAGCTAACGCCCTTAGTCAATGCCATGCATAGGGGGGTCTTCGAATGCATTAAATATTCAAATGACGGTAAACTATCTACGCACAGATTCTAGGTACTTTATACCACGGGTGTGCAGTCGAATCCTTGTCAGAATGGCAATCGGGTCGAGTTAAACGTGGCCTGGCAAGTGCAGGGGTATCCAGTTGTCGTAGCTTATTGCGCTTCATCTCTATATTTTACCTGGCGGTATTATGATTTCTTTGTAAAACGATATCGGACAAGACCACTCAGTTAGTTCATACAGACCTGATTAGGGTTGTTGCTTGAGAGCTCGGATTTGGGCTGCTCTCAGCAGGTTTCTACGCGGGACAGGCAGCACCCATACTAAAAGTCCTCGTAGGTTCTTGTCATGTTTCCGTACCGCATGTTTCGCGTGCAGGACTCATGTGACCTTCCAGAATGGGCAAAGATATCTCAGAACCAAGCATGTGACCGGCCGGTGAGGCTGGACTCTAACTCACTAAGTCCATGTAACTTAACCACTTCTGGGATTATCAAATAAATGGTCACCGCCACCTCATCTCACAGCTGTTATCTATTCTTGACTGTACGTGGCGGAACCGTGAAGTTAGGTGATCGTAACCGATCAAGTGCCAGGGTGGTACGTACGACAGCCGGGGGTGTCCGCGGTACGTATTATTAATACCTTATGTCCGAATTCATGCTCT\"\n",
      "print res(input)\n",
      "\n"
     ],
     "language": "python",
     "metadata": {},
     "outputs": [
      {
       "output_type": "stream",
       "stream": "stdout",
       "text": [
        "GAUGGAACUUGACUACGUAAAUU\n",
        "UGUAAUUUUCCCCUGUAGCACUCUGUCUUUUGCGCCCUACAUCGACUGAGUGGCUCCAGAUGAGUGGAGUUUUCGGCUCGAGGACUAGGUGUCUUGACUUGCCUCUUAAAUUAGUCUGGUGUGCCAACGCUUAAAGGUGUAAGUCGAGGUUCGAGGACGUUAUCGGAUAGCAAUUGCCGUCAGGUUACAUGCGUCGUACUGCAUAUAACGUACAACAUUGUCCCCGUGAAGCUAACGCCCUUAGUCAAUGCCAUGCAUAGGGGGGUCUUCGAAUGCAUUAAAUAUUCAAAUGACGGUAAACUAUCUACGCACAGAUUCUAGGUACUUUAUACCACGGGUGUGCAGUCGAAUCCUUGUCAGAAUGGCAAUCGGGUCGAGUUAAACGUGGCCUGGCAAGUGCAGGGGUAUCCAGUUGUCGUAGCUUAUUGCGCUUCAUCUCUAUAUUUUACCUGGCGGUAUUAUGAUUUCUUUGUAAAACGAUAUCGGACAAGACCACUCAGUUAGUUCAUACAGACCUGAUUAGGGUUGUUGCUUGAGAGCUCGGAUUUGGGCUGCUCUCAGCAGGUUUCUACGCGGGACAGGCAGCACCCAUACUAAAAGUCCUCGUAGGUUCUUGUCAUGUUUCCGUACCGCAUGUUUCGCGUGCAGGACUCAUGUGACCUUCCAGAAUGGGCAAAGAUAUCUCAGAACCAAGCAUGUGACCGGCCGGUGAGGCUGGACUCUAACUCACUAAGUCCAUGUAACUUAACCACUUCUGGGAUUAUCAAAUAAAUGGUCACCGCCACCUCAUCUCACAGCUGUUAUCUAUUCUUGACUGUACGUGGCGGAACCGUGAAGUUAGGUGAUCGUAACCGAUCAAGUGCCAGGGUGGUACGUACGACAGCCGGGGGUGUCCGCGGUACGUAUUAUUAAUACCUUAUGUCCGAAUUCAUGCUCU\n"
       ]
      }
     ],
     "prompt_number": 11
    },
    {
     "cell_type": "markdown",
     "metadata": {},
     "source": [
      "#Problem\n",
      "\n",
      "In DNA strings, symbols 'A' and 'T' are complements of each other, as are 'C' and 'G'.\n",
      "\n",
      "The reverse complement of a DNA string s is the string sc formed by reversing the symbols of s, then taking the complement of each symbol (e.g., the reverse complement of \"GTCA\" is \"TGAC\").\n",
      "\n",
      "**Given**: A DNA string s of length at most 1000 bp.\n",
      "\n",
      "**Return**: The reverse complement sc of s.\n",
      "\n",
      "Sample Dataset\n",
      "\n",
      "    AAAACCCGGT\n",
      "\n",
      "Sample Output\n",
      "\n",
      "    ACCGGGTTTT\n"
     ]
    },
    {
     "cell_type": "code",
     "collapsed": false,
     "input": [
      "from string import maketrans\n",
      "\n",
      "tr = maketrans(\"AT\", \"TA\")\n",
      "\"AAATTT\".translate(tr)"
     ],
     "language": "python",
     "metadata": {},
     "outputs": [
      {
       "metadata": {},
       "output_type": "pyout",
       "prompt_number": 34,
       "text": [
        "'TTTAAA'"
       ]
      }
     ],
     "prompt_number": 34
    },
    {
     "cell_type": "code",
     "collapsed": false,
     "input": [
      "complement = dict(A='T', T='A', G='C', C='G')\n",
      "\n",
      "def res(input):\n",
      "    return \"\".join([complement[x] for x in input[::-1]])\n",
      "\n",
      "def res2(input):\n",
      "    return input[::-1].translate(maketrans('ATCG', 'TAGC'))\n",
      "\n",
      "input = \"CTAGTCTCGGGACTCATGCTGTGGTTAGCCATGAACCGCATTTCCCGCCTAATCCCAGAGACCGTTGCACCTGTTCAGAGGTTCACCCTCAACCCAAGTCTGTTTGAGGCACTACGACAAGTGGCATACGTCGGTTATACTACCATTAGGTACCCTTTAAGGTTAGGCGTCCAGATGTGAAGGGAACAGAGGAACGCGTTTGAGTCCTAGGCAGATTTTATAAGGTCGAGTAAACCGTGGTTTATCCGTTGATGATTTCGGCGGCCCCCGTGGACACTAGAGGCGTAACCGACCGTTGATCTTGGAGACGGCGACAGGCGATAGTATGTTATTATTTCCAGTCACCAGGGGGTGCATAGCGTGGCCTCCTAGGTCGGCCCCGTAAAGACCCTTGACTTGCCTAGTGTAATGATCTGGTCTTCTCAATTCCGGAGACCGCAGGGCAGGCGTAATGCCACGTCAGGTGGTCATGTCACGTGCGGCGATCATAATTATAACGAATGATTCCACGCTGGTTATTGCTCAGCAAATGGGTATTTACCCGATGAGCGGCACGAGACACCAACAGAGGCGACAAATCAGTGACTAGAAGTATAAACGCTTGAAACTGTATTGACGGATCTAGCGACTAGACGATCCGCGGCTGGATGGGCGTGCTTTGATACAGAGAGGTAGAGGGGGGAACAGGAGGTTCCGAAGTGTTGCGAGTGCCGCTTACACAACGTCTGCGAGTATGTCTGGGCCGCACGACCAAGAACGATCGAAGACTAACTCTACGTCTACCACCTGTTTAGTGGTGCGTACACTACTGCACTTCTCCTTCCCAGTTAGCTGGAATATAGATCAAAACCGGCCTGCGCTCATCATCCGGGCAATGACAAATCTCGTTAATAGTATGATATGTTGAGTTCCGCTTGCTTCTTTAACAGGTCTTAGTGATGTTTA\"\n",
      "print res2(input)\n",
      "\n"
     ],
     "language": "python",
     "metadata": {},
     "outputs": [
      {
       "output_type": "stream",
       "stream": "stdout",
       "text": [
        "TAAACATCACTAAGACCTGTTAAAGAAGCAAGCGGAACTCAACATATCATACTATTAACGAGATTTGTCATTGCCCGGATGATGAGCGCAGGCCGGTTTTGATCTATATTCCAGCTAACTGGGAAGGAGAAGTGCAGTAGTGTACGCACCACTAAACAGGTGGTAGACGTAGAGTTAGTCTTCGATCGTTCTTGGTCGTGCGGCCCAGACATACTCGCAGACGTTGTGTAAGCGGCACTCGCAACACTTCGGAACCTCCTGTTCCCCCCTCTACCTCTCTGTATCAAAGCACGCCCATCCAGCCGCGGATCGTCTAGTCGCTAGATCCGTCAATACAGTTTCAAGCGTTTATACTTCTAGTCACTGATTTGTCGCCTCTGTTGGTGTCTCGTGCCGCTCATCGGGTAAATACCCATTTGCTGAGCAATAACCAGCGTGGAATCATTCGTTATAATTATGATCGCCGCACGTGACATGACCACCTGACGTGGCATTACGCCTGCCCTGCGGTCTCCGGAATTGAGAAGACCAGATCATTACACTAGGCAAGTCAAGGGTCTTTACGGGGCCGACCTAGGAGGCCACGCTATGCACCCCCTGGTGACTGGAAATAATAACATACTATCGCCTGTCGCCGTCTCCAAGATCAACGGTCGGTTACGCCTCTAGTGTCCACGGGGGCCGCCGAAATCATCAACGGATAAACCACGGTTTACTCGACCTTATAAAATCTGCCTAGGACTCAAACGCGTTCCTCTGTTCCCTTCACATCTGGACGCCTAACCTTAAAGGGTACCTAATGGTAGTATAACCGACGTATGCCACTTGTCGTAGTGCCTCAAACAGACTTGGGTTGAGGGTGAACCTCTGAACAGGTGCAACGGTCTCTGGGATTAGGCGGGAAATGCGGTTCATGGCTAACCACAGCATGAGTCCCGAGACTAG\n"
       ]
      }
     ],
     "prompt_number": 33
    },
    {
     "cell_type": "markdown",
     "metadata": {},
     "source": [
      "#Problem\n",
      "\n",
      "A sequence is an ordered collection of objects (usually numbers), which are allowed to repeat. Sequences can be finite or infinite. Two examples are the finite sequence (\u03c0,\u22122\u221a,0,\u03c0) and the infinite sequence of odd numbers (1,3,5,7,9,\u2026). We use the notation an to represent the n-th term of a sequence.\n",
      "\n",
      "A recurrence relation is a way of defining the terms of a sequence with respect to the values of previous terms. In the case of Fibonacci's rabbits from the introduction, any given month will contain the rabbits that were alive the previous month, plus any new offspring. A key observation is that the number of offspring in any month is equal to the number of rabbits that were alive two months prior. As a result, if Fn represents the number of rabbit pairs alive after the n-th month, then we obtain the Fibonacci sequence having terms Fn that are defined by the recurrence relation Fn=Fn\u22121+Fn\u22122 (with F1=F2=1 to initiate the sequence). Although the sequence bears Fibonacci's name, it was known to Indian mathematicians over two millennia ago.\n",
      "\n",
      "When finding the n-th term of a sequence defined by a recurrence relation, we can simply use the recurrence relation to generate terms for progressively larger values of n. This problem introduces us to the computational technique of dynamic programming, which successively builds up solutions by using the answers to smaller cases.\n",
      "\n",
      "**Given**: Positive integers n\u226440 and k\u22645.\n",
      "\n",
      "**Return**: The total number of rabbit pairs that will be present after n months if we begin with 1 pair and in each generation, every pair of reproduction-age rabbits produces a litter of k rabbit pairs (instead of only 1 pair).\n",
      "\n",
      "#Sample Dataset\n",
      "\n",
      "    5 3\n",
      "\n",
      "#Sample Output\n",
      "\n",
      "    19\n"
     ]
    },
    {
     "cell_type": "code",
     "collapsed": false,
     "input": [
      "def fibk(n, k):\n",
      "    if n == 1 or n == 2:\n",
      "        return 1\n",
      "    return fibk(n - 1, k) + k*fibk(n - 2, k)\n",
      "\n",
      "def fibk_dynamic(n, k):\n",
      "    l = [0] * n\n",
      "    def fib(n):\n",
      "        if n == 1 or n == 2:\n",
      "            return 1\n",
      "        if l[n - 1] != 0:\n",
      "            return l[n - 1]\n",
      "        \n",
      "        r = fib(n - 1) + k*fib(n - 2)\n",
      "        \n",
      "        l[n - 1] = r\n",
      "        return r\n",
      "    \n",
      "    return fib(n)\n",
      "    \n",
      "print fibk_dynamic(34, 4)"
     ],
     "language": "python",
     "metadata": {},
     "outputs": [
      {
       "output_type": "stream",
       "stream": "stdout",
       "text": [
        "18788331166609\n"
       ]
      }
     ],
     "prompt_number": 11
    },
    {
     "cell_type": "markdown",
     "metadata": {},
     "source": [
      "#Problem\n",
      "\n",
      "The GC-content of a DNA string is given by the percentage of symbols in the string that are 'C' or 'G'. For example, the GC-content of \"AGCTATAG\" is 37.5%. Note that the reverse complement of any DNA string has the same GC-content.\n",
      "\n",
      "DNA strings must be labeled when they are consolidated into a database. A commonly used method of string labeling is called FASTA format. In this format, the string is introduced by a line that begins with '>', followed by some labeling information. Subsequent lines contain the string itself; the first line to begin with '>' indicates the label of the next string.\n",
      "\n",
      "In Rosalind's implementation, a string in FASTA format will be labeled by the ID \"Rosalind_xxxx\", where \"xxxx\" denotes a four-digit code between 0000 and 9999.\n",
      "\n",
      "**Given**: At most 10 DNA strings in FASTA format (of length at most 1 kbp each).\n",
      "\n",
      "**Return**: The ID of the string having the highest GC-content, followed by the GC-content of that string. Rosalind allows for a default error of 0.001 in all decimal answers unless otherwise stated; please see the note on absolute error below.\n",
      "#Sample Dataset\n",
      "\n",
      "    >Rosalind_6404\n",
      "    CCTGCGGAAGATCGGCACTAGAATAGCCAGAACCGTTTCTCTGAGGCTTCCGGCCTTCCC\n",
      "    TCCCACTAATAATTCTGAGG\n",
      "    >Rosalind_5959\n",
      "    CCATCGGTAGCGCATCCTTAGTCCAATTAAGTCCCTATCCAGGCGCTCCGCCGAAGGTCT\n",
      "    ATATCCATTTGTCAGCAGACACGC\n",
      "    >Rosalind_0808\n",
      "    CCACCCTCGTGGTATGGCTAGGCATTCAGGAACCGGAGAACGCTTCAGACCAGCCCGGAC\n",
      "    TGGGAACCTGCGGGCAGTAGGTGGAAT\n",
      "\n",
      "#Sample Output\n",
      "\n",
      "    Rosalind_0808\n",
      "    60.919540\n"
     ]
    },
    {
     "cell_type": "code",
     "collapsed": false,
     "input": [
      "data = \"\"\"\n",
      ">Rosalind_1569\n",
      "CTTGACGGATAATAATATCTTTTAGCAGGGCCATTAGAATGAAAGTCAAGGCGCTGATCC\n",
      "GAACTTGATACGAAGGTTGTAGTGTATGAGCTGCTGTGGCGTGAAGACTGCATGACTCAT\n",
      "AGCCAAGCGGGACTATGCGAAATCAGACGGCTTACAATTATGCTCAAGGATTGAGTACGA\n",
      "GGCCGAGACTTGGGCAAGACTTCTAACCCGAGTCGATGAAAAGCACTCTCGCCGGTACGC\n",
      "ACGCTCAAGACCTACTAGAGGAAACGACAAATCGGCCTTCAATTAGGCATCCTCGAGACA\n",
      "GCAGTTCTAGAGAGGCAGCGAGCCCCTTGCCCCTATCAGACTTTATTTCTGTAGAAAGGT\n",
      "AACCTGTGCTCGCTAAGACTCAATTCAAACGGTCTTACAAGGTCGTTACTGGCACGCCTA\n",
      "AAGTTTTAACCTACGCTGTCGCTGCTGTGTGCTCTCACTGAGAGTCTAGCCGCTGAGTCA\n",
      "GCTTTATGCAGTTAGTGATTTTTCACAACACCTGTAGCACAGGACCACCTAAATGACGTT\n",
      "TCGCAACCCTTTGTGCGTATAGTTTCCCGGGATAGGTTCTGAGGTTTTCTAAAAGGTCTG\n",
      "CTCAAGACAATCCCATGAGGGGGGTGTCTGCCCGTCGGCAGCACTGCAATGATAAAATTA\n",
      "ATCGGGTTCGCAGAGGTTAAACGGTCCAAAACCGGAACGCGTGTAACAATCGAGACCCCG\n",
      "TGCCCTCACCGTGGTTGGGAGCACAATTCAAAAACCCGAGGTCGTCGGTCATAATACCAT\n",
      "ATGCAAAGTCCAGTCTTGTTGTCTATAGACCAAGGGTCTACACCCCCGGTTAGAGGAAAG\n",
      "GGGGCAACTGAGAAATCCCAGTCCAGACCCTTTTCA\n",
      ">Rosalind_4184\n",
      "GGGATCATCAGCGATTTTCGTGTGAAACAGCAGACTGGCACGACAAGCAAAGCAAGAAAT\n",
      "CAACGCTCGAACTACGACAGGGTCCACACCGGGGCCACAAGCCCGGAGGGTATTCCATTG\n",
      "TCGGTTATCTCCAAGCCGTTCTTTTCCAGGCTGCTGCTGATTGCTTGTATACCCATCCAT\n",
      "CGGTTCGTTGATTCGTTAATCTGATTTCCCAGAACTCGTAACGTAATGAGATACATGCTT\n",
      "ACGGGGCTGTAAGAAGTACAAACGTACTCGTCGCATTGACCATCTCGAAAACTATATTAG\n",
      "AGTATGAGCACCTCTCCTTCAGATACCATATCGGATACTCTTACTGGTCTCCCTAGGGCT\n",
      "TCTTTTTGAGCGCTTATATAACTGGAGCGCGACCAATCGTGGGCTTTGGCCATTTTTTAG\n",
      "TACGCTCCTCGCTTCATAGTTCACGTGAACCAACCACCTGTCCGGCCACAGCTTAGACCC\n",
      "TAGGAGATCAAGTTCTTTTGCATTTAGATAGTCCTCTTCTACTTCACCTCGACTACTGAC\n",
      "ATCTTTCTTGCGGGCTCGCGTGGCTCGCGGGAAATAAACTGCGTACGGCTAAAAGTAGTT\n",
      "TGGCTTGCGTCTATTATTTTGCCAATCTCAATCGTCCTGTGTACCTGCACACATCGGCAA\n",
      "CAGGCCCGTCTTTACCCTTCGATGGCCGCGCCATACGCCGAGACGGACGCTCCGAGACCA\n",
      "TAAAACCTGTAAGAGCATAGCGACACCAATTGCCGAAGCCCATCCTTAGGAACGTAGACA\n",
      "GCAATGACCTTTAATTTGACTGACGTCGAAAAGGCTCACCCCGATACCGAGTTTAGCGGG\n",
      "CGGCGAGTATCTATCGCAGTCGCATGTTAACGCCGACGAGACGCTGATTCT\n",
      ">Rosalind_8048\n",
      "TGGTCAATGTTACGAAAGGGCGCATACACGGGTATGTCTGGGTCAACCTTGTGGCCAGCC\n",
      "GTCGTCTGGTCATGTGCGCATCGACGAAGAAGTGCTTGTATTAGTATTGTGTAACTTGTG\n",
      "ACGGGCTAACTTCAAATCCGGCCTAGCTCGCTCGGAATGGTGGGCCCCGCCTTAGCAGCT\n",
      "GTGTACCGACTGGTGGCCCACAATACTCACGGTTTGTTACATAACATAAAGCGGGATCTT\n",
      "CCAGTACACAGCTCAAGGACAACGCGTAGATACGCTGCTTGGAACCAAGATAACACAAGA\n",
      "GGGTGTATGATATTCTCATTTACGATTAATGGCCAGCGTAGCTCGCTCGGGGTGAATAAC\n",
      "CGAACATGTCGTACATTATGTTTCATCTTGATTCTTGTCTTCCATTCTCGTCGTTATACT\n",
      "AAACCCCTGCAATCCAGGTAATAAGGTCAACACCAGGCGCTAGGCGCTGGTCAGTCAAGC\n",
      "TGGGGTCGATCTATGCGATCTATGGCAACACGACCGATGGCTACACACGATCAGGGGGCC\n",
      "CCAGAGTCTTGCGTTTGGGGGCACGCCGCAAAATGATAAAGACCTAAATTCTCCGCGCAC\n",
      "AAAGCCACTAAGAATGGCGGACGCTGCGCGTTCCCATGGGCGCCTGTGCTAACGTAGTCG\n",
      "AAAACAGCGAGTCCCCCCCGTTGGCAGTAGGTCACGCGTGAAACCAATTGTTAGACCAGC\n",
      "AGTTGCCTGGACCGACTTTTTGGTCGCTCATGGCGCGAACCGGTTACGCTCAATGGGAAC\n",
      "CTAAAGGGTAGAGAGACCGAGCCAGCCGGGGGTCTAGCAAAGGTATCAAGTGTTTCTTTC\n",
      "GCTCTGACATCGGGTCAACGCCGGCCGGACTGTGAC\n",
      ">Rosalind_7413\n",
      "GCCGGGGGCTACCAGGGGCGATCGGTTCATACTCACGATTGCGACGTATATAAACATTCC\n",
      "GCCAACAGCAAGTACACGGCTGCCCTGGGTATATTAATACTAGTCGGGTCAGCGTAGTTA\n",
      "TCTACAGACGGTGCTCAATTCGCGTTTTGGCGAAGTTTATGTGTGGTCGCGGATTTCCGT\n",
      "GCAGAAATGAGTCCCAACACATCACTTTCCTCTCGAACACCATGCAGCGATGTTGATGGG\n",
      "GTTAACTAAACATCGACTCTCCCCATGCAATTCAACACTACTTTCATTCGGGAGTGCGTG\n",
      "GGACCGGGAAGCATTCCCGAACCCTAGGTACGGATCATTACACTACCGTGAGTCTCGACG\n",
      "CCCCTGGCTGCCTTCCTGTCTTGGAAATATAAAGAGGCTGGGTGATATTAAACCAAAAAA\n",
      "TAATAAAATCAAAACGACTCCCGCAGCCCTCCACAATCAAGTCCTGATCGTCTCTGGGTA\n",
      "ATTAGAGCCGAATACTACGCCGTCATAGTTGGTGCGTTAGACCGACCATAGGTCCAAAGC\n",
      "GAACCGGGTCAAAGCCGCTACAATTGAATTATCGTTACCACACGCTGTTGTGGGGCACAT\n",
      "CATGCTTTTACCCGATAGAAGCGTCATTTCCACCAACTGTCTCGTCGTATGTCCCTGTGT\n",
      "TTCACGATGGAAAACTCGTTTGGACCATAATCCTACCGAATGGATTTTACAGTGCGCTGG\n",
      "ACCTTCTGGCTTGTCCTCATGACGGTTCAAGCTATACTTCTAACCGCCGTGTCAGAACAT\n",
      "CTGCTGGCTCTCGAACGTGATATACTGTGAGGGAGAGAATCCACCTCCGTCACTTCCGTC\n",
      "TACTGGCACGAGTGTCGGTTACAGTCGGCCAATTCGGTCCACCTTGGCGAATTAATGGAT\n",
      "GGATGGATGTG\n",
      ">Rosalind_6398\n",
      "AACCCGTGCTAATTCCTACCAAATAAAATGCGGTCTTCGGCGCGTGAGGTTACACCCCCG\n",
      "TTCCTTGTCGCTAACCTAGAAAGGAAGCTGTAGCAAACACACAGCGCATACCCGGCCGGA\n",
      "TTGTTGACCGCGTCCATGCGACCCTAACAATTGCTCGGCTCGGTCGCTCAATATGAAGTC\n",
      "AAAGAGGCTGTGATATGCAATGGTACTATGTTCAAAAAGTAGCGTGATGCGGCTTGTAGG\n",
      "ACCATTAATCTATGTTAGAACTAATAGTCTACTGCCGAACGTGCTACGACACAACTAGAT\n",
      "CGGAGCCGTTCTAACCATCAGTTATCACGTCCCTGAGAATGTGCGGTTTGTTTCCCACGT\n",
      "AGCCTCGCATGGTGCACGTATTCCGTTCTCCACTTTCAACCCACCGAAAGTTGCATTAGT\n",
      "CTCATGCCAACATGACGCGGATTAGCCTAACAAGACTGCCTTTAATATACGAGTGCGGGA\n",
      "GGTTAGGGCATCAGCAGCTCCTGCCCAGGTTAAAGGTCCCTTACCCCAATTCACTCGTTC\n",
      "GAGATACGGGAAGAGTTCTCTTTAGCTGCTAGGCATGGAGTGTCTATGTAGGATGAGTTC\n",
      "CATTGGACTTGTACGAGACGGGAGCATGAAGATGCTAAACGCAAGACCGTCGGATTGCCC\n",
      "TCGTCTGCGTAACCACTTAGTAGATCTATGTGATTAGGGAGTTCTAATAGTCTTTTATAC\n",
      "TGCGCTGCTTCACTCGACTACCGCGCATCGTTCATAGGTCTCTATTGACCCCTGGGCTGT\n",
      "GTCCCAAGTTGGTCCATAGACTTAAGCCGTGTAATTGGGTCATCATAAGTACTCGAACAT\n",
      "CGGATATACTGCTGTAAAGGGCTGCCCGTGACCTCACG\n",
      ">Rosalind_5398\n",
      "GGGGGTGGAAGCTGGGCGAAAGAGGATCCCAGGTAGATCCCCCAACAATCCAGCAGTTGT\n",
      "GCTGCTCACTTCACTACAATGCATTACGGAAGGTCGTATGACCTACAACTGGCAAGCTGT\n",
      "ATGTTTACCCATCCTTTCGCATTATAGAGCTCCCCAGCTCCGAAATACGCTTATTTTCCT\n",
      "CGTCAGGTAAGGAAGACGCGAATTAGCGAACAACCTAGGGGAGCGCTTAATCGTGTGTTA\n",
      "AGGTATGTCAGCCGAAATAGGAGTACGTTCATATAAAGTCGGGTTGGAAGACTGGTTTTA\n",
      "GACCTAATCACGAGGGCCTTAAACACATGATGTCAGACGCAACGCTGAATCGTCTGACTC\n",
      "ATTGATCCCATGAGTAATGGACAACTAACAATAAGGGTGTGACCTATCACGCATTTGGAT\n",
      "TGAGGCTTTTACTTCTAACTGCGCCGGAGATCCCGTAAGTGCTAACTAAGTGAAAGCTCT\n",
      "TCCAGTGTATTACGTGTTCTTTCGGGGATAAATGGGGTACGAGAGTTGAAAACGAGGTAT\n",
      "GAGTTTCAGAAAGTATGAGTTTTCTACAGTTGGCAGCTTCCACTTGGGGGAAAGTGGCCG\n",
      "GAGAACCTGATCGTAAATCACTTTCACAGCAAAGTGGAACCACAGTGATGATAGCTGTTA\n",
      "GCTGTAAAATCAATCATCTTAACTCTTAATAAATGGCGGAGCCCGGGAGGATACAATACG\n",
      "GTCCGATACCCCCCGAACGTATGGCACCCTCAAGGCTCAGGAATGGAAAACCACGCGTCG\n",
      "CAGTCCACCTAAAACCTTATAACCGAACCACTCCTTCGAAGGATTTTTCGTCAAGGTGTA\n",
      "TAGA\n",
      "\"\"\"\n",
      "\n",
      "from collections import defaultdict as ddict\n",
      "\n",
      "def res(dataset):\n",
      "    def GC_content(string):\n",
      "        return reduce(lambda count, c: count+1 if c in 'GC' else count, string, 0) / float(len(string)) * 100\n",
      "    \n",
      "    def listDnaStrings():\n",
      "        name = None\n",
      "        data = \"\"\n",
      "        for line in dataset.split():\n",
      "            if line.startswith(\">\"):\n",
      "                if name is not None:\n",
      "                    yield (name, GC_content(data))\n",
      "                name = line\n",
      "                data = \"\"\n",
      "            else:\n",
      "                data += line\n",
      "        yield (name, GC_content(data))\n",
      "        \n",
      "\n",
      "\n",
      "    \n",
      "    return max(listDnaStrings(), key=lambda (n, gc): gc)\n",
      "\n",
      "(name, GC) = res(data)\n",
      "print name[1:]\n",
      "print GC\n",
      "            \n",
      "        "
     ],
     "language": "python",
     "metadata": {},
     "outputs": [
      {
       "output_type": "stream",
       "stream": "stdout",
       "text": [
        "Rosalind_8048\n",
        "52.7397260274\n"
       ]
      }
     ],
     "prompt_number": 49
    },
    {
     "cell_type": "code",
     "collapsed": false,
     "input": [
      "'a' in 'cv'"
     ],
     "language": "python",
     "metadata": {},
     "outputs": [
      {
       "metadata": {},
       "output_type": "pyout",
       "prompt_number": 31,
       "text": [
        "False"
       ]
      }
     ],
     "prompt_number": 31
    }
   ],
   "metadata": {}
  }
 ]
}