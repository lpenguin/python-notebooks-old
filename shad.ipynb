{
 "cells": [
  {
   "cell_type": "markdown",
   "metadata": {},
   "source": [
    "# Цветочки"
   ]
  },
  {
   "cell_type": "code",
   "execution_count": null,
   "metadata": {
    "collapsed": false
   },
   "outputs": [],
   "source": [
    "from itertools import combinations, islice\n",
    "\n",
    "positions = [x for x in range(1, 14)]\n",
    "count = 0\n",
    "\n",
    "for comb in combinations(positions, 5):\n",
    "    comb_tail = islice(comb, 1, 5)\n",
    "    is_good_enough = True\n",
    "    for x, y in zip(comb, comb_tail):\n",
    "        if y - x == 1:\n",
    "            is_good_enough = False\n",
    "    if is_good_enough:\n",
    "        count += 1\n",
    "print(count)\n",
    "    \n",
    "        \n",
    "    "
   ]
  },
  {
   "cell_type": "code",
   "execution_count": null,
   "metadata": {
    "collapsed": false
   },
   "outputs": [],
   "source": [
    "def isub(list1, list2):\n",
    "    return filter(lambda x: x not in list2, list1)\n",
    "\n",
    "def sub(list1, list2):\n",
    "    return [x for x in list1 if x not in list2]\n"
   ]
  },
  {
   "cell_type": "code",
   "execution_count": null,
   "metadata": {
    "collapsed": false
   },
   "outputs": [],
   "source": [
    "positions = [x for x in range(1, 14)]\n",
    "\n",
    "count = 0\n",
    "all_count = 0\n",
    "\n",
    "for blue_pos in combinations(positions, 4):\n",
    "    green_red_pos = sub(positions, blue_pos)\n",
    "    for green_pos in combinations(green_red_pos, 4):\n",
    "        red_pos = sub(green_red_pos, green_pos)\n",
    "        red_pos_tail = islice(red_pos, 1, 5)\n",
    "        good = True\n",
    "        for x, y in zip(red_pos, red_pos_tail):\n",
    "#             print('{} {}'.format(x, y))\n",
    "#             break\n",
    "            if y - x == 1:\n",
    "                good = False\n",
    "        if good:\n",
    "            count += 1\n",
    "print(count)"
   ]
  },
  {
   "cell_type": "code",
   "execution_count": null,
   "metadata": {
    "collapsed": false
   },
   "outputs": [],
   "source": [
    "for x in combinations([1, 2, 3], 2):\n",
    "    print(type(x))"
   ]
  },
  {
   "cell_type": "code",
   "execution_count": null,
   "metadata": {
    "collapsed": false
   },
   "outputs": [],
   "source": [
    "[x for x in islice([1, 2, 3, 4], 1, 4)]"
   ]
  },
  {
   "cell_type": "markdown",
   "metadata": {},
   "source": [
    "# Покупатели"
   ]
  },
  {
   "cell_type": "code",
   "execution_count": null,
   "metadata": {
    "collapsed": false
   },
   "outputs": [],
   "source": [
    "from random import random\n",
    "\n",
    "def prob(p):\n",
    "    return random() <= p\n",
    "\n",
    "\n",
    "def simulate(f, count=2000000):\n",
    "    true_count = 0\n",
    "    for _ in range(count):\n",
    "        if f():\n",
    "            true_count += 1\n",
    "    return true_count / count\n",
    "\n",
    "def iteration():\n",
    "    is_man = prob(0.6)\n",
    "    if is_man:\n",
    "        return prob(0.29)\n",
    "    else:\n",
    "        return prob(0.05)\n",
    "    \n",
    "simulate(iteration)\n"
   ]
  },
  {
   "cell_type": "markdown",
   "metadata": {},
   "source": [
    "# Подстановки"
   ]
  },
  {
   "cell_type": "code",
   "execution_count": null,
   "metadata": {
    "collapsed": false
   },
   "outputs": [],
   "source": [
    "class View:\n",
    "    def __init__(self, view: dict):\n",
    "        self.view = view\n",
    "        \n",
    "    def __call__(self, value):\n",
    "        return self.view[value]\n",
    "    \n",
    "    def __len__(self):\n",
    "        return len(self.view)\n",
    "    \n",
    "    @staticmethod\n",
    "    def from_lists(list1, list2):\n",
    "        return View(dict(zip(list1, list2)))\n",
    "    \n",
    "def print_view(view: View, values: list):\n",
    "#     values = values or [x + 1 for x in range(len(view))]\n",
    "    print(' '.join(map(str, values)))\n",
    "    print(' '.join(map(lambda x: str(view(x)), values)))\n",
    "\n",
    "def comp(view1: View, view2: View):\n",
    "    # (view1 * view2)(x) = \n",
    "    # view1(view2(x))\n",
    "    return (lambda x: view1(view2(x)))\n",
    "    \n",
    "inverse_view = View({\n",
    "    1: 7,\n",
    "    2: 6,\n",
    "    3: 5,\n",
    "    4: 4,\n",
    "    5: 3,\n",
    "    6: 2,\n",
    "    7: 1\n",
    "})\n",
    "\n",
    "sig = View({\n",
    "        1: 2,\n",
    "        2: 3,\n",
    "        3: 4,\n",
    "        4: 1\n",
    "    })\n",
    "\n",
    "tau = View({\n",
    "        1: 4,\n",
    "        2: 3,\n",
    "        3: 2,\n",
    "        4: 1\n",
    "    })\n",
    "\n",
    "# print_view(comp(sig, tau), [1, 2, 3, 4])\n",
    "# print_view(comp(tau, sig), [1, 2, 3, 4])\n",
    "\n",
    "front = [1, 2, 3, 4, 5, 6, 7]\n",
    "\n",
    "a = View.from_lists([1, 2, 3, 4, 5, 6, 7],\n",
    "                    [2, 3, 1, 5, 7, 6, 4])\n",
    "\n",
    "b = View.from_lists([1, 2, 3, 4, 5, 6, 7],\n",
    "                    [7, 6, 5, 4, 3, 2, 1])\n",
    "\n",
    "c = View.from_lists([1, 2, 3, 4, 5, 6, 7],\n",
    "                    [4, 5, 7, 6, 2, 3, 1])\n",
    "\n",
    "x = View.from_lists([1, 2, 3, 4, 5, 6, 7],\n",
    "                    [3, 2, 1, 6, 5, 4, 7])\n",
    "axb = comp(a, comp(x, b))\n",
    "\n",
    "print_view(c, front)\n",
    "print_view(axb, front)"
   ]
  },
  {
   "cell_type": "markdown",
   "metadata": {
    "collapsed": true
   },
   "source": [
    "# Вероятность на прямой"
   ]
  },
  {
   "cell_type": "code",
   "execution_count": 18,
   "metadata": {
    "collapsed": false
   },
   "outputs": [
    {
     "name": "stdout",
     "output_type": "stream",
     "text": [
      "0.95966\n",
      "0.25\n"
     ]
    }
   ],
   "source": [
    "from random import random, shuffle\n",
    "from itertools import combinations\n",
    "\n",
    "def distance(x, y):\n",
    "    return abs(x - y)\n",
    "#     return d if d < 0.5 else 1 - d\n",
    "\n",
    "def distancet(t):\n",
    "    return distance(t[0], t[1])\n",
    "\n",
    "n = 2\n",
    "def iteration(n):\n",
    "    positions = list(map(lambda _: random(), range(n)))\n",
    "    pairs = combinations(positions, 2)\n",
    "    longestpair = max(pairs, key=distancet)\n",
    "        \n",
    "    return distancet(longestpair) <= 0.8\n",
    "\n",
    "def simulate(f, count=200000):\n",
    "    true_count = 0\n",
    "    for _ in range(count):\n",
    "        if f():\n",
    "            true_count += 1\n",
    "    return true_count / count\n",
    "\n",
    "print(simulate(lambda: iteration(n)))\n",
    "print(1/(2 ** n))\n",
    "\n",
    "    \n",
    "\n"
   ]
  },
  {
   "cell_type": "markdown",
   "metadata": {},
   "source": [
    "#Вероятность на полуокружности"
   ]
  },
  {
   "cell_type": "code",
   "execution_count": 55,
   "metadata": {
    "collapsed": false
   },
   "outputs": [
    {
     "name": "stdout",
     "output_type": "stream",
     "text": [
      "0.4\n"
     ]
    }
   ],
   "source": [
    "from random import shuffle\n",
    "l = [0.2, 0.1, 0.3, 0.4, 0.5]\n",
    "shuffle(l)\n",
    "positions = list(enumerate(l))\n",
    "pairs = combinations(positions, 2)\n",
    "longestpair = max(pairs, key=lambda pair: distance(pair[0][1], pair[1][1]))\n",
    "\n",
    "\n",
    "pos = longestpair[0]\n",
    "length = 0\n",
    "while len(positions) > 0:\n",
    "    closest = min(positions, key=lambda p: distance(pos[1], p[1]))\n",
    "    length += distance(pos[1], closest[1])\n",
    "    positions.remove(closest)\n",
    "    pos = closest\n",
    "    \n",
    "print(length)"
   ]
  }
 ],
 "metadata": {
  "kernelspec": {
   "display_name": "Python 3",
   "language": "python",
   "name": "python3"
  },
  "language_info": {
   "codemirror_mode": {
    "name": "ipython",
    "version": 3
   },
   "file_extension": ".py",
   "mimetype": "text/x-python",
   "name": "python",
   "nbconvert_exporter": "python",
   "pygments_lexer": "ipython3",
   "version": "3.4.3"
  }
 },
 "nbformat": 4,
 "nbformat_minor": 0
}
